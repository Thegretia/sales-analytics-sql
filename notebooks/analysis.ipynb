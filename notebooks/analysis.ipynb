{
 "cells": [
  {
   "cell_type": "markdown",
   "id": "4b3c76d2-c7b7-46cc-96e9-81e8d37b5bb0",
   "metadata": {},
   "source": [
    "# Sales Analytics with SQL & Python\n",
    "\n",
    "Objectif : analyser les transactions de ventes par pays et par mois.  \n",
    "Nous allons étudier :\n",
    "- Le nombre total de transactions  \n",
    "- Les montants associés  \n",
    "- La comparaison entre transactions approuvées et déclinées  \n",
    "- Les tendances mensuelles  \n"
   ]
  },
  {
   "cell_type": "code",
   "execution_count": 3,
   "id": "1a736891-60c1-4cf4-8972-477babf7e371",
   "metadata": {},
   "outputs": [],
   "source": [
    "#Import et configuration \n",
    "\n",
    "import sqlite3\n",
    "import pandas as pd\n",
    "import matplotlib.pyplot as plt\n",
    "import seaborn as sns\n",
    "\n",
    "sns.set(style=\"whitegrid\")\n",
    "plt.rcParams[\"figure.figsize\"] = (8,5)"
   ]
  },
  {
   "cell_type": "code",
   "execution_count": null,
   "id": "300d7e93-086e-446d-b32d-caa2c70a6ae4",
   "metadata": {},
   "outputs": [],
   "source": [
    "db_path = \"sales.db\"  # fichier SQLite qui sera créé\n",
    "conn = sqlite3.connect(db_path)\n",
    "\n",
    "with open(\"../data/transactions.sql\", \"r\", encoding=\"utf-8\") as f:\n",
    "    sql_script = f.read()\n",
    "\n",
    "conn.executescript(sql_script)  # crée la table et insère les données\n",
    "print(\"✅ Base initialisée dans\", db_path)"
   ]
  },
  {
   "cell_type": "markdown",
   "id": "014a8381-5862-41ea-8849-b2734281683a",
   "metadata": {},
   "source": [
    "Ventes totales par mois"
   ]
  },
  {
   "cell_type": "code",
   "execution_count": 3,
   "id": "1e5829c8-ae11-47ea-a460-ce31b48bb3e4",
   "metadata": {},
   "outputs": [
    {
     "data": {
      "text/html": [
       "<div>\n",
       "<style scoped>\n",
       "    .dataframe tbody tr th:only-of-type {\n",
       "        vertical-align: middle;\n",
       "    }\n",
       "\n",
       "    .dataframe tbody tr th {\n",
       "        vertical-align: top;\n",
       "    }\n",
       "\n",
       "    .dataframe thead th {\n",
       "        text-align: right;\n",
       "    }\n",
       "</style>\n",
       "<table border=\"1\" class=\"dataframe\">\n",
       "  <thead>\n",
       "    <tr style=\"text-align: right;\">\n",
       "      <th></th>\n",
       "      <th>month</th>\n",
       "      <th>total_transactions</th>\n",
       "      <th>total_amount</th>\n",
       "    </tr>\n",
       "  </thead>\n",
       "  <tbody>\n",
       "    <tr>\n",
       "      <th>0</th>\n",
       "      <td>2025-01</td>\n",
       "      <td>5</td>\n",
       "      <td>3900</td>\n",
       "    </tr>\n",
       "    <tr>\n",
       "      <th>1</th>\n",
       "      <td>2025-02</td>\n",
       "      <td>5</td>\n",
       "      <td>3900</td>\n",
       "    </tr>\n",
       "    <tr>\n",
       "      <th>2</th>\n",
       "      <td>2025-03</td>\n",
       "      <td>10</td>\n",
       "      <td>6470</td>\n",
       "    </tr>\n",
       "  </tbody>\n",
       "</table>\n",
       "</div>"
      ],
      "text/plain": [
       "     month  total_transactions  total_amount\n",
       "0  2025-01                   5          3900\n",
       "1  2025-02                   5          3900\n",
       "2  2025-03                  10          6470"
      ]
     },
     "execution_count": 3,
     "metadata": {},
     "output_type": "execute_result"
    }
   ],
   "source": [
    "query = \"\"\"\n",
    "SELECT \n",
    "    strftime('%Y-%m', trans_date) AS month,\n",
    "    COUNT(*) AS total_transactions,\n",
    "    SUM(amount) AS total_amount\n",
    "FROM Transactions\n",
    "GROUP BY strftime('%Y-%m', trans_date)\n",
    "ORDER BY month;\n",
    "\"\"\"\n",
    "df_monthly = pd.read_sql(query, conn)\n",
    "df_monthly\n"
   ]
  },
  {
   "cell_type": "markdown",
   "id": "1fa9cd7d-75c0-4243-bb12-b91112532a40",
   "metadata": {},
   "source": [
    "Barplot ventes mensuelles"
   ]
  },
  {
   "cell_type": "code",
   "execution_count": 4,
   "id": "f33f022c-0b30-4e8b-b5e5-bba656033f00",
   "metadata": {},
   "outputs": [
    {
     "data": {
      "image/png": "[encoded data removed]",
      "text/plain": [
       "<Figure size 800x500 with 1 Axes>"
      ]
     },
     "metadata": {},
     "output_type": "display_data"
    }
   ],
   "source": [
    "sns.barplot(data=df_monthly, x=\"month\", y=\"total_amount\")\n",
    "plt.title(\"Ventes totales par mois\")\n",
    "plt.ylabel(\"Montant total\")\n",
    "plt.xlabel(\"Mois\")\n",
    "plt.tight_layout()\n",
    "plt.show()\n"
   ]
  },
  {
   "cell_type": "markdown",
   "id": "1d164dc4-2f12-4322-b4fb-3c7b40540703",
   "metadata": {},
   "source": [
    "ventes approuvees vs refusees"
   ]
  },
  {
   "cell_type": "code",
   "execution_count": 5,
   "id": "0242cfae-aa17-4112-bc18-b2a2affe1384",
   "metadata": {},
   "outputs": [
    {
     "data": {
      "text/html": [
       "<div>\n",
       "<style scoped>\n",
       "    .dataframe tbody tr th:only-of-type {\n",
       "        vertical-align: middle;\n",
       "    }\n",
       "\n",
       "    .dataframe tbody tr th {\n",
       "        vertical-align: top;\n",
       "    }\n",
       "\n",
       "    .dataframe thead th {\n",
       "        text-align: right;\n",
       "    }\n",
       "</style>\n",
       "<table border=\"1\" class=\"dataframe\">\n",
       "  <thead>\n",
       "    <tr style=\"text-align: right;\">\n",
       "      <th></th>\n",
       "      <th>month</th>\n",
       "      <th>approved_amount</th>\n",
       "      <th>declined_amount</th>\n",
       "    </tr>\n",
       "  </thead>\n",
       "  <tbody>\n",
       "    <tr>\n",
       "      <th>0</th>\n",
       "      <td>2025-01</td>\n",
       "      <td>1800</td>\n",
       "      <td>2100</td>\n",
       "    </tr>\n",
       "    <tr>\n",
       "      <th>1</th>\n",
       "      <td>2025-02</td>\n",
       "      <td>3150</td>\n",
       "      <td>750</td>\n",
       "    </tr>\n",
       "    <tr>\n",
       "      <th>2</th>\n",
       "      <td>2025-03</td>\n",
       "      <td>5300</td>\n",
       "      <td>1170</td>\n",
       "    </tr>\n",
       "  </tbody>\n",
       "</table>\n",
       "</div>"
      ],
      "text/plain": [
       "     month  approved_amount  declined_amount\n",
       "0  2025-01             1800             2100\n",
       "1  2025-02             3150              750\n",
       "2  2025-03             5300             1170"
      ]
     },
     "execution_count": 5,
     "metadata": {},
     "output_type": "execute_result"
    }
   ],
   "source": [
    "query2 = \"\"\"\n",
    "SELECT \n",
    "    strftime('%Y-%m', trans_date) AS month,\n",
    "    SUM(CASE WHEN state = 'approved' THEN amount ELSE 0 END) AS approved_amount,\n",
    "    SUM(CASE WHEN state = 'declined' THEN amount ELSE 0 END) AS declined_amount\n",
    "FROM Transactions\n",
    "GROUP BY strftime('%Y-%m', trans_date)\n",
    "ORDER BY month;\n",
    "\"\"\"\n",
    "df_status = pd.read_sql(query2, conn)\n",
    "df_status\n"
   ]
  },
  {
   "cell_type": "markdown",
   "id": "a9cebdb8-aa7a-4f45-bd16-e8aa3359f691",
   "metadata": {},
   "source": [
    "Barres empilees"
   ]
  },
  {
   "cell_type": "code",
   "execution_count": 6,
   "id": "105f44af-b5cb-4944-84a6-35828e0f6d91",
   "metadata": {},
   "outputs": [
    {
     "data": {
      "image/png": "[encoded data removed]",
      "text/plain": [
       "<Figure size 800x500 with 1 Axes>"
      ]
     },
     "metadata": {},
     "output_type": "display_data"
    }
   ],
   "source": [
    "df_status_plot = df_status.set_index(\"month\")\n",
    "df_status_plot.plot(kind=\"bar\", stacked=True)\n",
    "plt.title(\"Montant des ventes : approuvées vs refusées\")\n",
    "plt.ylabel(\"Montant\")\n",
    "plt.xlabel(\"Mois\")\n",
    "plt.tight_layout()\n",
    "plt.show()\n"
   ]
  },
  {
   "cell_type": "markdown",
   "id": "a2e53e39-a7f1-43f4-9b3f-4c348d7754de",
   "metadata": {},
   "source": [
    "ventes par pays"
   ]
  },
  {
   "cell_type": "code",
   "execution_count": 7,
   "id": "cf3ece1f-2fd3-41fe-a42f-0bc69aa4dfdc",
   "metadata": {},
   "outputs": [
    {
     "data": {
      "text/html": [
       "<div>\n",
       "<style scoped>\n",
       "    .dataframe tbody tr th:only-of-type {\n",
       "        vertical-align: middle;\n",
       "    }\n",
       "\n",
       "    .dataframe tbody tr th {\n",
       "        vertical-align: top;\n",
       "    }\n",
       "\n",
       "    .dataframe thead th {\n",
       "        text-align: right;\n",
       "    }\n",
       "</style>\n",
       "<table border=\"1\" class=\"dataframe\">\n",
       "  <thead>\n",
       "    <tr style=\"text-align: right;\">\n",
       "      <th></th>\n",
       "      <th>country</th>\n",
       "      <th>total_transactions</th>\n",
       "      <th>total_amount</th>\n",
       "      <th>approved_amount</th>\n",
       "    </tr>\n",
       "  </thead>\n",
       "  <tbody>\n",
       "    <tr>\n",
       "      <th>0</th>\n",
       "      <td>Benin</td>\n",
       "      <td>6</td>\n",
       "      <td>4960</td>\n",
       "      <td>2910</td>\n",
       "    </tr>\n",
       "    <tr>\n",
       "      <th>1</th>\n",
       "      <td>Algerie</td>\n",
       "      <td>6</td>\n",
       "      <td>4690</td>\n",
       "      <td>4370</td>\n",
       "    </tr>\n",
       "    <tr>\n",
       "      <th>2</th>\n",
       "      <td>Cameroun</td>\n",
       "      <td>8</td>\n",
       "      <td>4620</td>\n",
       "      <td>2970</td>\n",
       "    </tr>\n",
       "  </tbody>\n",
       "</table>\n",
       "</div>"
      ],
      "text/plain": [
       "    country  total_transactions  total_amount  approved_amount\n",
       "0     Benin                   6          4960             2910\n",
       "1   Algerie                   6          4690             4370\n",
       "2  Cameroun                   8          4620             2970"
      ]
     },
     "execution_count": 7,
     "metadata": {},
     "output_type": "execute_result"
    }
   ],
   "source": [
    "query3 = \"\"\"\n",
    "SELECT \n",
    "    country,\n",
    "    COUNT(*) AS total_transactions,\n",
    "    SUM(amount) AS total_amount,\n",
    "    SUM(CASE WHEN state = 'approved' THEN amount ELSE 0 END) AS approved_amount\n",
    "FROM Transactions\n",
    "GROUP BY country\n",
    "ORDER BY total_amount DESC;\n",
    "\"\"\"\n",
    "df_country = pd.read_sql(query3, conn)\n",
    "df_country\n"
   ]
  },
  {
   "cell_type": "markdown",
   "id": "fc5f881c-9b8b-4c28-94c7-c2f857d51421",
   "metadata": {},
   "source": [
    "Barplot ventes par pays"
   ]
  },
  {
   "cell_type": "code",
   "execution_count": 8,
   "id": "22ec8e1e-89db-41d3-ac6d-3ba36a8b8b3d",
   "metadata": {},
   "outputs": [
    {
     "data": {
      "image/png": "[encoded data removed]",
      "text/plain": [
       "<Figure size 800x500 with 1 Axes>"
      ]
     },
     "metadata": {},
     "output_type": "display_data"
    }
   ],
   "source": [
    "sns.barplot(data=df_country, x=\"country\", y=\"approved_amount\")\n",
    "plt.title(\"Ventes approuvées par pays\")\n",
    "plt.ylabel(\"Montant approuvé\")\n",
    "plt.xlabel(\"Pays\")\n",
    "plt.tight_layout()\n",
    "plt.show()\n"
   ]
  },
  {
   "cell_type": "markdown",
   "id": "494032a5-4f6f-4b8b-a6c3-d59d61309593",
   "metadata": {},
   "source": [
    "top produits"
   ]
  },
  {
   "cell_type": "code",
   "execution_count": 9,
   "id": "b29a2241-338d-4cb0-b083-c623f38b9ba0",
   "metadata": {},
   "outputs": [
    {
     "data": {
      "text/html": [
       "<div>\n",
       "<style scoped>\n",
       "    .dataframe tbody tr th:only-of-type {\n",
       "        vertical-align: middle;\n",
       "    }\n",
       "\n",
       "    .dataframe tbody tr th {\n",
       "        vertical-align: top;\n",
       "    }\n",
       "\n",
       "    .dataframe thead th {\n",
       "        text-align: right;\n",
       "    }\n",
       "</style>\n",
       "<table border=\"1\" class=\"dataframe\">\n",
       "  <thead>\n",
       "    <tr style=\"text-align: right;\">\n",
       "      <th></th>\n",
       "      <th>Product</th>\n",
       "      <th>sold_count</th>\n",
       "      <th>total_amount</th>\n",
       "      <th>approved_amount</th>\n",
       "    </tr>\n",
       "  </thead>\n",
       "  <tbody>\n",
       "    <tr>\n",
       "      <th>0</th>\n",
       "      <td>Laptop</td>\n",
       "      <td>6</td>\n",
       "      <td>7600</td>\n",
       "      <td>6300</td>\n",
       "    </tr>\n",
       "    <tr>\n",
       "      <th>1</th>\n",
       "      <td>Smartphone</td>\n",
       "      <td>4</td>\n",
       "      <td>3300</td>\n",
       "      <td>900</td>\n",
       "    </tr>\n",
       "    <tr>\n",
       "      <th>2</th>\n",
       "      <td>Tablet</td>\n",
       "      <td>4</td>\n",
       "      <td>1950</td>\n",
       "      <td>1950</td>\n",
       "    </tr>\n",
       "    <tr>\n",
       "      <th>3</th>\n",
       "      <td>Smartwatch</td>\n",
       "      <td>3</td>\n",
       "      <td>930</td>\n",
       "      <td>610</td>\n",
       "    </tr>\n",
       "    <tr>\n",
       "      <th>4</th>\n",
       "      <td>Headphones</td>\n",
       "      <td>3</td>\n",
       "      <td>490</td>\n",
       "      <td>490</td>\n",
       "    </tr>\n",
       "  </tbody>\n",
       "</table>\n",
       "</div>"
      ],
      "text/plain": [
       "      Product  sold_count  total_amount  approved_amount\n",
       "0      Laptop           6          7600             6300\n",
       "1  Smartphone           4          3300              900\n",
       "2      Tablet           4          1950             1950\n",
       "3  Smartwatch           3           930              610\n",
       "4  Headphones           3           490              490"
      ]
     },
     "execution_count": 9,
     "metadata": {},
     "output_type": "execute_result"
    }
   ],
   "source": [
    "query4 = \"\"\"\n",
    "SELECT \n",
    "    product,\n",
    "    COUNT(*) AS sold_count,\n",
    "    SUM(amount) AS total_amount,\n",
    "    SUM(CASE WHEN state = 'approved' THEN amount ELSE 0 END) AS approved_amount\n",
    "FROM Transactions\n",
    "GROUP BY product\n",
    "ORDER BY total_amount DESC;\n",
    "\"\"\"\n",
    "df_products = pd.read_sql(query4, conn)\n",
    "df_products\n"
   ]
  },
  {
   "cell_type": "code",
   "execution_count": null,
   "id": "6686e94a-6d9f-4b2e-90d7-69eef19f7c93",
   "metadata": {},
   "outputs": [],
   "source": []
  }
 ],
 "metadata": {
  "kernelspec": {
   "display_name": "Python 3 (ipykernel)",
   "language": "python",
   "name": "python3"
  },
  "language_info": {
   "codemirror_mode": {
    "name": "ipython",
    "version": 3
   },
   "file_extension": ".py",
   "mimetype": "text/x-python",
   "name": "python",
   "nbconvert_exporter": "python",
   "pygments_lexer": "ipython3",
   "version": "3.13.2"
  }
 },
 "nbformat": 4,
 "nbformat_minor": 5
}
